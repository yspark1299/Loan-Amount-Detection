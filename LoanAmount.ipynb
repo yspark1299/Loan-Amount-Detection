{
 "cells": [
  {
   "cell_type": "code",
   "execution_count": 1,
   "metadata": {
    "id": "7QjYPDhqqI85"
   },
   "outputs": [],
   "source": [
    "import numpy as np\n",
    "import pandas as pd\n",
    "from sklearn.model_selection import train_test_split\n",
    "from sklearn.preprocessing import StandardScaler\n",
    "from sklearn.linear_model import LinearRegression\n",
    "from sklearn.metrics import r2_score\n",
    "from sklearn import preprocessing\n",
    "import sklearn\n",
    "from tensorflow import keras\n",
    "import matplotlib.pyplot as plt\n",
    "from numpy import NAN\n"
   ]
  },
  {
   "cell_type": "code",
   "execution_count": 13,
   "metadata": {},
   "outputs": [
    {
     "name": "stderr",
     "output_type": "stream",
     "text": [
      "/var/folders/8x/lbk56ggd4j7cpypvcbtkp8kc0000gn/T/ipykernel_45330/2770815775.py:20: FutureWarning: Dropping of nuisance columns in DataFrame reductions (with 'numeric_only=None') is deprecated; in a future version this will raise TypeError.  Select only valid columns before calling the reduction.\n",
      "  test_data=test_data.fillna(test_data.mean())\n"
     ]
    }
   ],
   "source": [
    "#change object types to number\n",
    "def convert1(s):\n",
    "    dic = {}\n",
    "    for i in s:\n",
    "        if i not in dic:\n",
    "            dic[i] = len(dic)\n",
    "    box = []\n",
    "    for i in s:\n",
    "        box.append(dic[i])\n",
    "    return box\n",
    "\n",
    "#Data preprocessing\n",
    "train_data = pd.read_csv(\"train.csv\")\n",
    "train_data = train_data.dropna()\n",
    "\n",
    "test_data = pd.read_csv(\"test.csv\")\n",
    "\n",
    "for i in test_data.columns:\n",
    "    test_data[test_data[i] == -999] = None\n",
    "test_data=test_data.fillna(test_data.mean())\n",
    "\n",
    "for i in train_data.columns:\n",
    "    train_data = train_data[train_data[i] != -999]\n",
    "\n",
    "train_data_df = train_data\n",
    "test_data_df = test_data\n",
    "\n",
    "test_id = test_data['Customer ID']\n",
    "\n",
    "for i in train_data.columns:\n",
    "    if train_data[i].dtype == 'object':\n",
    "        train_data[i] = convert1(train_data[i])\n",
    "        \n",
    "for i in test_data.columns:\n",
    "    if test_data[i].dtype == 'object':\n",
    "        test_data[i] = convert1(test_data[i])\n",
    "\n",
    "del train_data['Customer ID']\n",
    "del train_data['Name']\n",
    "del test_data['Customer ID']\n",
    "del test_data['Name']\n",
    "\n",
    "train_target = train_data.iloc[:, -1].to_numpy()\n",
    "train_data = train_data.iloc[:, :-1].to_numpy()\n",
    "test_data = test_data.to_numpy()\n",
    "\n",
    "train_input, val_input, train_target, val_target = train_test_split(train_data, train_target, test_size = .2)\n",
    "\n",
    "ss = StandardScaler()\n",
    "train_scaled = ss.fit_transform(train_input)\n",
    "val_scaled = ss.transform(val_input)\n",
    "test_scaled = ss.transform(test_data)\n"
   ]
  },
  {
   "cell_type": "code",
   "execution_count": null,
   "metadata": {},
   "outputs": [],
   "source": []
  },
  {
   "cell_type": "markdown",
   "metadata": {},
   "source": [
    "# Visualization"
   ]
  },
  {
   "cell_type": "code",
   "execution_count": null,
   "metadata": {},
   "outputs": [],
   "source": []
  },
  {
   "cell_type": "code",
   "execution_count": 14,
   "metadata": {},
   "outputs": [
    {
     "name": "stdout",
     "output_type": "stream",
     "text": [
      "score :  0.6094125675961137\n",
      "r2 :  0.3691434867906166\n"
     ]
    }
   ],
   "source": [
    "model = LinearRegression()\n",
    "model.fit(train_scaled, train_target)\n",
    "print('score : ', model.score(val_scaled, val_target))\n",
    "\n",
    "test_data_df['prediction_LinearRegression'] = model.predict(test_scaled)\n",
    "#test_data_df.to_excel('linear.xlsx')\n",
    "\n",
    "leg_result= pd.DataFrame({\n",
    "    'Customer ID' : test_id,\n",
    "    'Loan Amount' : test_data_df['prediction_LinearRegression'],\n",
    "})\n",
    "leg_result.to_csv('linear.csv')\n",
    "\n",
    "print('r2 : ', sklearn.metrics.r2_score(model.predict(val_scaled), val_target))"
   ]
  },
  {
   "cell_type": "code",
   "execution_count": 15,
   "metadata": {},
   "outputs": [
    {
     "name": "stdout",
     "output_type": "stream",
     "text": [
      "Index(['Gender', 'Age', 'Income (USD)', 'Income Stability', 'Profession',\n",
      "       'Type of Employment', 'Location', 'Loan Amount Request (USD)',\n",
      "       'Current Loan Expenses (USD)', 'Expense Type 1', 'Expense Type 2',\n",
      "       'Dependents', 'Credit Score', 'No. of Defaults',\n",
      "       'Has Active Credit Card', 'Property ID', 'Property Age',\n",
      "       'Property Type', 'Property Location', 'Co-Applicant', 'Property Price',\n",
      "       'Loan Amount'],\n",
      "      dtype='object')\n",
      "[ 3.86725284e+02 -6.09917618e+02  7.59334368e+01 -1.81898940e-12\n",
      "  4.03304378e+02  6.78796300e+01 -1.82510834e+02  2.78698801e+04\n",
      " -6.68116546e+02  1.42695889e+02  2.93316617e+02 -4.52255170e+02\n",
      "  9.89943783e+03 -6.92679605e+02  1.71102743e+02 -1.15012053e+02\n",
      "  7.59334368e+01 -7.15790217e+02  2.64185535e+02  1.50504457e+04\n",
      "  2.17261472e+03]\n"
     ]
    }
   ],
   "source": [
    "print(train_data_df.columns)\n",
    "print(model.coef_)"
   ]
  },
  {
   "cell_type": "code",
   "execution_count": 16,
   "metadata": {},
   "outputs": [
    {
     "data": {
      "image/png": "[encoded data removed]",
      "text/plain": [
       "<Figure size 432x288 with 1 Axes>"
      ]
     },
     "metadata": {
      "needs_background": "light"
     },
     "output_type": "display_data"
    }
   ],
   "source": [
    "import matplotlib.pyplot as plt\n",
    "plt.scatter(val_target, model.predict(val_scaled))\n",
    "plt.xlabel(\"Actual Loan Amount\")\n",
    "plt.ylabel(\"Predicted Loan Amount\")\n",
    "plt.title(\"Linear Regression\")\n",
    "plt.show()"
   ]
  },
  {
   "cell_type": "code",
   "execution_count": 17,
   "metadata": {
    "colab": {
     "base_uri": "https://localhost:8080/"
    },
    "id": "Oy44rPOX8h3W",
    "outputId": "9e7e042c-1a05-4a6a-c847-c7aca644621b"
   },
   "outputs": [
    {
     "name": "stdout",
     "output_type": "stream",
     "text": [
      "Epoch 1/100\n",
      "330/330 [==============================] - 1s 2ms/step - loss: 4039598848.0000 - val_loss: 3943229440.0000\n",
      "Epoch 2/100\n",
      "330/330 [==============================] - 1s 2ms/step - loss: 3568313088.0000 - val_loss: 3054860800.0000\n",
      "Epoch 3/100\n",
      "330/330 [==============================] - 0s 1ms/step - loss: 2439162624.0000 - val_loss: 1805505792.0000\n",
      "Epoch 4/100\n",
      "330/330 [==============================] - 0s 1ms/step - loss: 1504884480.0000 - val_loss: 1178364928.0000\n",
      "Epoch 5/100\n",
      "330/330 [==============================] - 1s 2ms/step - loss: 1189465216.0000 - val_loss: 1007405504.0000\n",
      "Epoch 6/100\n",
      "330/330 [==============================] - 0s 1ms/step - loss: 1061693568.0000 - val_loss: 928260928.0000\n",
      "Epoch 7/100\n",
      "330/330 [==============================] - 0s 1ms/step - loss: 1019973504.0000 - val_loss: 877300096.0000\n",
      "Epoch 8/100\n",
      "330/330 [==============================] - 1s 2ms/step - loss: 938707712.0000 - val_loss: 838860800.0000\n",
      "Epoch 9/100\n",
      "330/330 [==============================] - 1s 2ms/step - loss: 902281088.0000 - val_loss: 811360512.0000\n",
      "Epoch 10/100\n",
      "330/330 [==============================] - 1s 3ms/step - loss: 887045632.0000 - val_loss: 794388288.0000\n",
      "Epoch 11/100\n",
      "330/330 [==============================] - 1s 4ms/step - loss: 915399680.0000 - val_loss: 784918464.0000\n",
      "Epoch 12/100\n",
      "330/330 [==============================] - 1s 3ms/step - loss: 866052160.0000 - val_loss: 777350592.0000\n",
      "Epoch 13/100\n",
      "330/330 [==============================] - 1s 3ms/step - loss: 859022144.0000 - val_loss: 773834624.0000\n",
      "Epoch 14/100\n",
      "330/330 [==============================] - 1s 2ms/step - loss: 891730944.0000 - val_loss: 770340160.0000\n",
      "Epoch 15/100\n",
      "330/330 [==============================] - 1s 2ms/step - loss: 864422912.0000 - val_loss: 768040832.0000\n",
      "Epoch 16/100\n",
      "330/330 [==============================] - 1s 2ms/step - loss: 846171648.0000 - val_loss: 765383040.0000\n",
      "Epoch 17/100\n",
      "330/330 [==============================] - 1s 2ms/step - loss: 838336256.0000 - val_loss: 763772288.0000\n",
      "Epoch 18/100\n",
      "330/330 [==============================] - 1s 2ms/step - loss: 866915904.0000 - val_loss: 763892928.0000\n",
      "Epoch 19/100\n",
      "330/330 [==============================] - 1s 2ms/step - loss: 824180544.0000 - val_loss: 762799424.0000\n",
      "Epoch 20/100\n",
      "330/330 [==============================] - 1s 2ms/step - loss: 854803392.0000 - val_loss: 761793664.0000\n",
      "Epoch 21/100\n",
      "330/330 [==============================] - 1s 2ms/step - loss: 837090048.0000 - val_loss: 761437056.0000\n",
      "Epoch 22/100\n",
      "330/330 [==============================] - 1s 2ms/step - loss: 821743616.0000 - val_loss: 760473472.0000\n",
      "Epoch 23/100\n",
      "330/330 [==============================] - 1s 2ms/step - loss: 836587072.0000 - val_loss: 760170432.0000\n",
      "Epoch 24/100\n",
      "330/330 [==============================] - 1s 2ms/step - loss: 827907904.0000 - val_loss: 759980672.0000\n",
      "Epoch 25/100\n",
      "330/330 [==============================] - 1s 2ms/step - loss: 840378048.0000 - val_loss: 759627520.0000\n",
      "Epoch 26/100\n",
      "330/330 [==============================] - 1s 2ms/step - loss: 841440960.0000 - val_loss: 758118976.0000\n",
      "Epoch 27/100\n",
      "330/330 [==============================] - 0s 1ms/step - loss: 830591296.0000 - val_loss: 757884992.0000\n",
      "Epoch 28/100\n",
      "330/330 [==============================] - 1s 2ms/step - loss: 820090240.0000 - val_loss: 758055680.0000\n",
      "Epoch 29/100\n",
      "330/330 [==============================] - 1s 2ms/step - loss: 830695488.0000 - val_loss: 757829696.0000\n",
      "Epoch 30/100\n",
      "330/330 [==============================] - 1s 2ms/step - loss: 822663488.0000 - val_loss: 758793984.0000\n",
      "Epoch 31/100\n",
      "330/330 [==============================] - 1s 2ms/step - loss: 821339136.0000 - val_loss: 757782528.0000\n",
      "Epoch 32/100\n",
      "330/330 [==============================] - 0s 1ms/step - loss: 834534272.0000 - val_loss: 757501760.0000\n",
      "Epoch 33/100\n",
      "330/330 [==============================] - 0s 1ms/step - loss: 821940480.0000 - val_loss: 757088064.0000\n",
      "Epoch 34/100\n",
      "330/330 [==============================] - 0s 1ms/step - loss: 834715584.0000 - val_loss: 756674752.0000\n",
      "Epoch 35/100\n",
      "330/330 [==============================] - 0s 1ms/step - loss: 820727616.0000 - val_loss: 756087424.0000\n",
      "Epoch 36/100\n",
      "330/330 [==============================] - 1s 2ms/step - loss: 814411648.0000 - val_loss: 755597760.0000\n",
      "Epoch 37/100\n",
      "330/330 [==============================] - 1s 2ms/step - loss: 813407616.0000 - val_loss: 756680320.0000\n",
      "Epoch 38/100\n",
      "330/330 [==============================] - 1s 3ms/step - loss: 816994304.0000 - val_loss: 755094784.0000\n",
      "Epoch 39/100\n",
      "330/330 [==============================] - 1s 4ms/step - loss: 822323328.0000 - val_loss: 755553856.0000\n",
      "Epoch 40/100\n",
      "330/330 [==============================] - 1s 3ms/step - loss: 815769600.0000 - val_loss: 756788544.0000\n",
      "Epoch 41/100\n",
      "330/330 [==============================] - 1s 3ms/step - loss: 815015232.0000 - val_loss: 755320960.0000\n",
      "Epoch 42/100\n",
      "330/330 [==============================] - 1s 2ms/step - loss: 823902272.0000 - val_loss: 754910272.0000\n",
      "Epoch 43/100\n",
      "330/330 [==============================] - 0s 1ms/step - loss: 816806272.0000 - val_loss: 753980544.0000\n",
      "Epoch 44/100\n",
      "330/330 [==============================] - 0s 1ms/step - loss: 831908224.0000 - val_loss: 754809152.0000\n",
      "Epoch 45/100\n",
      "330/330 [==============================] - 0s 1ms/step - loss: 809060096.0000 - val_loss: 754162880.0000\n",
      "Epoch 46/100\n",
      "330/330 [==============================] - 0s 1ms/step - loss: 831900352.0000 - val_loss: 754264192.0000\n",
      "Epoch 47/100\n",
      "330/330 [==============================] - 0s 1ms/step - loss: 816933888.0000 - val_loss: 753994176.0000\n",
      "Epoch 48/100\n",
      "330/330 [==============================] - 1s 2ms/step - loss: 815716352.0000 - val_loss: 753630272.0000\n",
      "Epoch 49/100\n",
      "330/330 [==============================] - 1s 4ms/step - loss: 816029440.0000 - val_loss: 753025920.0000\n",
      "Epoch 50/100\n",
      "330/330 [==============================] - 0s 1ms/step - loss: 812728256.0000 - val_loss: 753404480.0000\n",
      "Epoch 51/100\n",
      "330/330 [==============================] - 0s 1ms/step - loss: 820373632.0000 - val_loss: 752918976.0000\n",
      "Epoch 52/100\n",
      "330/330 [==============================] - 0s 1ms/step - loss: 807853760.0000 - val_loss: 752466752.0000\n",
      "Epoch 53/100\n",
      "330/330 [==============================] - 0s 1ms/step - loss: 819477504.0000 - val_loss: 752787968.0000\n",
      "Epoch 54/100\n",
      "330/330 [==============================] - 0s 1ms/step - loss: 802703424.0000 - val_loss: 752891648.0000\n",
      "Epoch 55/100\n",
      "330/330 [==============================] - 0s 1ms/step - loss: 822920448.0000 - val_loss: 753202816.0000\n",
      "Epoch 56/100\n",
      "330/330 [==============================] - 0s 1ms/step - loss: 811028096.0000 - val_loss: 751978560.0000\n",
      "Epoch 57/100\n",
      "330/330 [==============================] - 1s 3ms/step - loss: 803184832.0000 - val_loss: 751695808.0000\n",
      "Epoch 58/100\n",
      "330/330 [==============================] - 1s 3ms/step - loss: 816520576.0000 - val_loss: 752630592.0000\n",
      "Epoch 59/100\n",
      "330/330 [==============================] - 2s 7ms/step - loss: 815180224.0000 - val_loss: 752842176.0000\n",
      "Epoch 60/100\n",
      "330/330 [==============================] - 1s 2ms/step - loss: 818890176.0000 - val_loss: 752448704.0000\n",
      "Epoch 61/100\n",
      "330/330 [==============================] - 0s 1ms/step - loss: 815023936.0000 - val_loss: 751806912.0000\n",
      "Epoch 62/100\n",
      "330/330 [==============================] - 0s 1ms/step - loss: 803025024.0000 - val_loss: 751847872.0000\n",
      "Epoch 63/100\n",
      "330/330 [==============================] - 0s 1ms/step - loss: 833136832.0000 - val_loss: 751876672.0000\n",
      "Epoch 64/100\n",
      "330/330 [==============================] - 1s 2ms/step - loss: 810001856.0000 - val_loss: 752054144.0000\n",
      "Epoch 65/100\n",
      "330/330 [==============================] - 0s 1ms/step - loss: 816155776.0000 - val_loss: 751721344.0000\n",
      "Epoch 66/100\n",
      "330/330 [==============================] - 0s 1ms/step - loss: 799352960.0000 - val_loss: 752262656.0000\n",
      "Epoch 67/100\n",
      "330/330 [==============================] - 0s 1ms/step - loss: 823940672.0000 - val_loss: 752085440.0000\n",
      "r2 :  0.491051652836511\n"
     ]
    }
   ],
   "source": [
    "model = keras.Sequential()\n",
    "model.add(keras.layers.Dense(100, input_shape = (21,), activation='relu'))\n",
    "model.add(keras.layers.Dropout(0.3))\n",
    "model.add(keras.layers.Dense(50, activation='relu'))\n",
    "model.add(keras.layers.Dropout(0.3))\n",
    "model.add(keras.layers.Dense(1))\n",
    "\n",
    "model.compile(loss='mse', optimizer = 'adam')\n",
    "\n",
    "stopping = keras.callbacks.EarlyStopping(patience=10, restore_best_weights = True)\n",
    "\n",
    "history =  model.fit(train_scaled, train_target, epochs = 100, validation_data=(val_scaled, val_target), callbacks=[stopping])\n",
    "\n",
    "box = []\n",
    "for i in model.predict(test_scaled):\n",
    "    box.append(i[0])\n",
    "\n",
    "test_data_df['prediction_DNN'] = box\n",
    "\n",
    "dnn_result= pd.DataFrame({\n",
    "    'Customer ID' : test_id,\n",
    "    'Loan Amount' : test_data_df['prediction_DNN']\n",
    "})\n",
    "dnn_result.to_csv('DNN.csv', index=False)\n",
    "\n",
    "print('r2 : ', sklearn.metrics.r2_score(model.predict(val_scaled), val_target))"
   ]
  },
  {
   "cell_type": "code",
   "execution_count": 7,
   "metadata": {},
   "outputs": [
    {
     "data": {
      "image/png": "[encoded data removed]",
      "text/plain": [
       "<Figure size 432x288 with 1 Axes>"
      ]
     },
     "metadata": {
      "needs_background": "light"
     },
     "output_type": "display_data"
    }
   ],
   "source": [
    "import matplotlib.pyplot as plt\n",
    "plt.scatter(val_target, model.predict(val_scaled))\n",
    "plt.xlabel(\"Actual Loan Amount\")\n",
    "plt.ylabel(\"Predicted Loan Amount\")\n",
    "plt.title(\"Deep Neural Network - ReLu\")\n",
    "\n",
    "plt.show()"
   ]
  },
  {
   "cell_type": "code",
   "execution_count": 8,
   "metadata": {
    "colab": {
     "base_uri": "https://localhost:8080/",
     "height": 424
    },
    "id": "6re8lCB_LFdc",
    "outputId": "bfc45efc-13d7-4f04-86dd-c6d72f61b26d"
   },
   "outputs": [],
   "source": [
    "# result2 = pd.DataFrame({\n",
    "#     'ID' : test_id,\n",
    "#     'Linear' : test_data_df['prediction_LinearRegression'],\n",
    "#     'DNN' : test_data_df['prediction_DNN']\n",
    "# })\n",
    "# result2.to_excel('Final_Result2.xlsx')\n",
    "# result2"
   ]
  },
  {
   "cell_type": "code",
   "execution_count": 9,
   "metadata": {
    "colab": {
     "base_uri": "https://localhost:8080/"
    },
    "id": "YcJspAGC3Dpk",
    "outputId": "d7ee0c12-f815-4ec1-d7f4-fa9de236d8af"
   },
   "outputs": [
    {
     "name": "stdout",
     "output_type": "stream",
     "text": [
      "Model: \"sequential\"\n",
      "_________________________________________________________________\n",
      " Layer (type)                Output Shape              Param #   \n",
      "=================================================================\n",
      " dense (Dense)               (None, 100)               2200      \n",
      "                                                                 \n",
      " dropout (Dropout)           (None, 100)               0         \n",
      "                                                                 \n",
      " dense_1 (Dense)             (None, 50)                5050      \n",
      "                                                                 \n",
      " dropout_1 (Dropout)         (None, 50)                0         \n",
      "                                                                 \n",
      " dense_2 (Dense)             (None, 1)                 51        \n",
      "                                                                 \n",
      "=================================================================\n",
      "Total params: 7,301\n",
      "Trainable params: 7,301\n",
      "Non-trainable params: 0\n",
      "_________________________________________________________________\n"
     ]
    }
   ],
   "source": [
    "model.summary()"
   ]
  },
  {
   "cell_type": "code",
   "execution_count": 10,
   "metadata": {},
   "outputs": [
    {
     "name": "stdout",
     "output_type": "stream",
     "text": [
      "(10553, 21)\n",
      "(10553,)\n",
      "(2639, 21)\n",
      "(2639,)\n"
     ]
    }
   ],
   "source": [
    "print(train_input.shape)\n",
    "print(train_target.shape)\n",
    "print(val_input.shape)\n",
    "print(val_target.shape)"
   ]
  },
  {
   "cell_type": "code",
   "execution_count": 33,
   "metadata": {
    "id": "W6z_q2aSZsut"
   },
   "outputs": [],
   "source": [
    "train_input=np.vstack((np.ones((train_input.shape[0],)),train_input.T)).T\n",
    "val_input=np.vstack((np.ones((val_input.shape[0],)),val_input.T)).T"
   ]
  },
  {
   "cell_type": "code",
   "execution_count": 57,
   "metadata": {},
   "outputs": [],
   "source": [
    "def linear_model (train_input,train_target,learning_rate,iteration):\n",
    "    m=train_target.size\n",
    "    theta=np.zeros((train_input.shape[1],1))\n",
    "    cost_list=[]\n",
    "    for i in range(iteration):\n",
    "        y_pred=np.dot(train_input,theta)\n",
    "        cost=(1/(2*m))*np.sum(np.square(y_pred-train_target))\n",
    "        d_theta = (1/m)*np.dot(train_input.T,y_pred-train_target)\n",
    "        theta = theta-learning_rate*d_theta\n",
    "        cost_list.append(cost)\n",
    "        if(i%(iteration/10)==0):\n",
    "            print(\"Cost is:\", cost)\n",
    "    return theta,cost_list"
   ]
  },
  {
   "cell_type": "code",
   "execution_count": 58,
   "metadata": {},
   "outputs": [
    {
     "name": "stdout",
     "output_type": "stream",
     "text": [
      "Cost is: 21475844220744.965\n",
      "Cost is: 21475844220744.965\n",
      "Cost is: 21475844220744.965\n",
      "Cost is: 21475844220744.965\n",
      "Cost is: 21475844220744.965\n",
      "Cost is: 21475844220744.965\n",
      "Cost is: 21475844220744.965\n",
      "Cost is: 21475844220744.965\n",
      "Cost is: 21475844220744.965\n",
      "Cost is: 21475844220744.965\n"
     ]
    }
   ],
   "source": [
    "iteration=int(10)\n",
    "learning_rate =int(0.005)\n",
    "theta, cost_list =linear_model(train_input,train_target,learning_rate=learning_rate, iteration=iteration)"
   ]
  },
  {
   "cell_type": "code",
   "execution_count": 59,
   "metadata": {},
   "outputs": [
    {
     "name": "stdout",
     "output_type": "stream",
     "text": [
      "(2639, 10553)\n",
      "(2639,)\n"
     ]
    },
    {
     "ename": "ValueError",
     "evalue": "operands could not be broadcast together with shapes (2639,10553) (2639,) ",
     "output_type": "error",
     "traceback": [
      "\u001b[0;31m---------------------------------------------------------------------------\u001b[0m",
      "\u001b[0;31mValueError\u001b[0m                                Traceback (most recent call last)",
      "\u001b[0;32m/var/folders/8x/lbk56ggd4j7cpypvcbtkp8kc0000gn/T/ipykernel_45330/3348162506.py\u001b[0m in \u001b[0;36m<module>\u001b[0;34m\u001b[0m\n\u001b[1;32m      2\u001b[0m \u001b[0mprint\u001b[0m\u001b[0;34m(\u001b[0m\u001b[0my_pred\u001b[0m\u001b[0;34m.\u001b[0m\u001b[0mshape\u001b[0m\u001b[0;34m)\u001b[0m\u001b[0;34m\u001b[0m\u001b[0;34m\u001b[0m\u001b[0m\n\u001b[1;32m      3\u001b[0m \u001b[0mprint\u001b[0m\u001b[0;34m(\u001b[0m\u001b[0mval_target\u001b[0m\u001b[0;34m.\u001b[0m\u001b[0mshape\u001b[0m\u001b[0;34m)\u001b[0m\u001b[0;34m\u001b[0m\u001b[0;34m\u001b[0m\u001b[0m\n\u001b[0;32m----> 4\u001b[0;31m \u001b[0merror\u001b[0m\u001b[0;34m=\u001b[0m\u001b[0;34m(\u001b[0m\u001b[0;36m1\u001b[0m\u001b[0;34m/\u001b[0m\u001b[0mval_input\u001b[0m\u001b[0;34m.\u001b[0m\u001b[0mshape\u001b[0m\u001b[0;34m[\u001b[0m\u001b[0;36m0\u001b[0m\u001b[0;34m]\u001b[0m\u001b[0;34m)\u001b[0m\u001b[0;34m*\u001b[0m\u001b[0mnp\u001b[0m\u001b[0;34m.\u001b[0m\u001b[0msum\u001b[0m\u001b[0;34m(\u001b[0m\u001b[0mnp\u001b[0m\u001b[0;34m.\u001b[0m\u001b[0mabs\u001b[0m\u001b[0;34m(\u001b[0m\u001b[0my_pred\u001b[0m\u001b[0;34m-\u001b[0m\u001b[0mval_target\u001b[0m\u001b[0;34m)\u001b[0m\u001b[0;34m)\u001b[0m\u001b[0;34m\u001b[0m\u001b[0;34m\u001b[0m\u001b[0m\n\u001b[0m\u001b[1;32m      5\u001b[0m \u001b[0mprint\u001b[0m\u001b[0;34m(\u001b[0m\u001b[0;34m\"error is:\"\u001b[0m\u001b[0;34m,\u001b[0m\u001b[0merror\u001b[0m\u001b[0;34m*\u001b[0m\u001b[0;36m100\u001b[0m\u001b[0;34m,\u001b[0m\u001b[0;34m\"%\"\u001b[0m\u001b[0;34m)\u001b[0m\u001b[0;34m\u001b[0m\u001b[0;34m\u001b[0m\u001b[0m\n",
      "\u001b[0;31mValueError\u001b[0m: operands could not be broadcast together with shapes (2639,10553) (2639,) "
     ]
    }
   ],
   "source": [
    "y_pred=np.dot(val_input,theta)\n",
    "print(y_pred.shape)\n",
    "print(val_target.shape)\n",
    "error=(1/val_input.shape[0])*np.sum(np.abs(y_pred-val_target))\n",
    "print(\"error is:\",error*100,\"%\")"
   ]
  },
  {
   "cell_type": "code",
   "execution_count": null,
   "metadata": {},
   "outputs": [],
   "source": []
  }
 ],
 "metadata": {
  "colab": {
   "collapsed_sections": [],
   "name": "CODE.ipynb",
   "provenance": []
  },
  "kernelspec": {
   "display_name": "Python 3 (ipykernel)",
   "language": "python",
   "name": "python3"
  },
  "language_info": {
   "codemirror_mode": {
    "name": "ipython",
    "version": 3
   },
   "file_extension": ".py",
   "mimetype": "text/x-python",
   "name": "python",
   "nbconvert_exporter": "python",
   "pygments_lexer": "ipython3",
   "version": "3.8.12"
  }
 },
 "nbformat": 4,
 "nbformat_minor": 1
}
